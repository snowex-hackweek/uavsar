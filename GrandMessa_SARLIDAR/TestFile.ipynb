{
 "cells": [
  {
   "cell_type": "code",
   "execution_count": 1,
   "id": "polar-intervention",
   "metadata": {},
   "outputs": [
    {
     "name": "stdout",
     "output_type": "stream",
     "text": [
      "                           PRE GrMesa_2015_054_081_0006d/\n",
      "                           PRE GrMesa_2015_054_261_0006d/\n",
      "                           PRE GrMesa_2015_055_081_0008d/\n",
      "                           PRE GrMesa_2015_055_261_0008d/\n",
      "                           PRE GrMesa_2015_060_081_0048d/\n",
      "                           PRE GrMesa_2015_060_261_0048d/\n",
      "                           PRE GrMesa_2015_100_081_0360d/\n",
      "                           PRE GrMesa_2016_095_081_0313d/\n",
      "                           PRE GrMesa_2016_095_261_0313d/\n",
      "                           PRE grmesa_2017_002_078_0016d/\n",
      "                           PRE grmesa_2017_002_078_0019d/\n",
      "                           PRE grmesa_2017_002_078_0030d/\n",
      "                           PRE grmesa_2017_002_078_0053d/\n",
      "                           PRE grmesa_2017_002_080_0016d/\n",
      "                           PRE grmesa_2017_002_080_0030d/\n",
      "                           PRE grmesa_2017_002_080_0053d/\n",
      "                           PRE grmesa_2017_002_260_0016d/\n",
      "                           PRE grmesa_2017_002_260_0019d/\n",
      "                           PRE grmesa_2017_002_260_0030d/\n",
      "                           PRE grmesa_2017_002_260_0053d/\n",
      "                           PRE grmesa_2017_016_078_0003d/\n",
      "                           PRE grmesa_2017_016_078_0014d/\n",
      "                           PRE grmesa_2017_016_078_0037d/\n",
      "                           PRE grmesa_2017_016_080_0014d/\n",
      "                           PRE grmesa_2017_016_080_0037d/\n",
      "                           PRE grmesa_2017_016_260_0003d/\n",
      "                           PRE grmesa_2017_016_260_0014d/\n",
      "                           PRE grmesa_2017_016_260_0037d/\n",
      "                           PRE grmesa_2017_018_078_0034d/\n",
      "                           PRE grmesa_2017_018_260_0011d/\n",
      "                           PRE grmesa_2017_018_260_0034d/\n",
      "                           PRE grmesa_2020_003_274_0011d/\n",
      "                           PRE grmesa_2020_003_274_0018d/\n",
      "                           PRE grmesa_2020_003_274_0025d/\n",
      "                           PRE grmesa_2020_003_274_0040d/\n",
      "                           PRE grmesa_2020_005_274_0007d/\n",
      "                           PRE grmesa_2020_008_274_0007d/\n",
      "                           PRE grmesa_2020_013_274_0015d/\n",
      "                           PRE grmesa_2021_007_274_0007d/\n",
      "                           PRE grmesa_2021_010_274_0007d/\n",
      "                           PRE grmesa_2021_011_274_0021d/\n",
      "                           PRE grmesa_2021_016_274_0007d/\n",
      "                           PRE grmesa_2021_017_274_0006d/\n",
      "                           PRE grmesa_2021_019_274_0006d/\n",
      "                           PRE silver_2020_011/\n",
      "                           PRE silver_2020_011_347_0019d/\n",
      "                           PRE uticam_2021_002/\n",
      "                           PRE uticam_2021_004/\n",
      "2021-07-14 02:24:30          0 test.txt\n"
     ]
    }
   ],
   "source": [
    "!aws s3 ls s3://snowex-data/uavsar-project/UAVSAR_images/"
   ]
  },
  {
   "cell_type": "code",
   "execution_count": null,
   "id": "ideal-jersey",
   "metadata": {},
   "outputs": [],
   "source": []
  }
 ],
 "metadata": {
  "kernelspec": {
   "display_name": "Python 3",
   "language": "python",
   "name": "python3"
  },
  "language_info": {
   "codemirror_mode": {
    "name": "ipython",
    "version": 3
   },
   "file_extension": ".py",
   "mimetype": "text/x-python",
   "name": "python",
   "nbconvert_exporter": "python",
   "pygments_lexer": "ipython3",
   "version": "3.8.8"
  }
 },
 "nbformat": 4,
 "nbformat_minor": 5
}
