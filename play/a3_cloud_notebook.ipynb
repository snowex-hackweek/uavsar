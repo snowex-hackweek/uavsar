{
 "cells": [
  {
   "cell_type": "code",
   "execution_count": 2,
   "id": "finite-cornwall",
   "metadata": {},
   "outputs": [],
   "source": [
    "# import libraries\n",
    "import re\n",
    "import zipfile\n",
    "import getpass\n",
    "from osgeo import gdal \n",
    "import os  # for chdir, getcwd, path.basename, path.exists\n",
    "import pandas as pd # for DatetimeIndex\n",
    "import codecs # for text parsing code\n",
    "import netrc\n",
    "import rasterio as rio\n",
    "import glob\n",
    "import io"
   ]
  },
  {
   "cell_type": "code",
   "execution_count": 3,
   "id": "applicable-graphics",
   "metadata": {},
   "outputs": [],
   "source": [
    "#use for deleting contents of temp directory if needed. DO NOT uncomment, this will cause the notebook to fail.\n",
    "\n",
    "files = glob.glob(\"/tmp/*.*\")\n",
    "for f in files:\n",
    "   os.remove(f)"
   ]
  },
  {
   "cell_type": "code",
   "execution_count": 7,
   "id": "equivalent-prescription",
   "metadata": {},
   "outputs": [],
   "source": [
    "def downloading(zip_urls):\n",
    "    # Get NASA EARTHDATA Credentials from ~/.netrc or manual input\n",
    "    try:\n",
    "        os.chmod('/home/jovyan/.netrc', 0o600) #only necessary on jupyterhub\n",
    "        (ASF_USER, account, ASF_PASS) = netrc.netrc().authenticators(\"urs.earthdata.nasa.gov\")\n",
    "    except:\n",
    "        ASF_USER = input(\"Enter Username: \")\n",
    "        ASF_PASS = getpass.getpass(\"Enter Password: \")\n",
    "        \n",
    "    if not os.path.exists('/tmp/'):\n",
    "        os.chdir('/tmp')\n",
    "   \n",
    "    # directory for data downloads\n",
    "\n",
    "    data_dir = os.path.join('/tmp')\n",
    "    os.makedirs(data_dir, exist_ok=True)\n",
    "\n",
    "    for file in zip_urls:\n",
    "        print(f'downloading {file}...')\n",
    "        filename = os.path.basename(file)\n",
    "\n",
    "        if not os.path.exists(os.path.join(data_dir,filename)):\n",
    "            cmd = \"wget -q {0} --user={1} --password={2} -P {3} -nc\".format(file, ASF_USER, ASF_PASS, data_dir)\n",
    "            os.system(cmd) ##Should probably be a subprocess.call(cmd) - not quite sure why but that is the perfered method\n",
    "        else:\n",
    "            print(filename + \" already exists. Skipping download ..\")\n",
    "\n",
    "    print(\"done\")\n"
   ]
  },
  {
   "cell_type": "code",
   "execution_count": null,
   "id": "strong-montgomery",
   "metadata": {},
   "outputs": [
    {
     "name": "stdout",
     "output_type": "stream",
     "text": [
      "downloading https://datapool.asf.alaska.edu/INTERFEROMETRY_GRD/UA/silver_34715_20011-001_20016-002_0019d_s01_L090_01_int_grd.zip...\n"
     ]
    }
   ],
   "source": [
    "test_files = ['https://datapool.asf.alaska.edu/INTERFEROMETRY_GRD/UA/silver_34715_20011-001_20016-002_0019d_s01_L090_01_int_grd.zip']\n",
    "downloading(test_files)"
   ]
  },
  {
   "cell_type": "code",
   "execution_count": null,
   "id": "progressive-election",
   "metadata": {},
   "outputs": [],
   "source": []
  }
 ],
 "metadata": {
  "kernelspec": {
   "display_name": "Python 3",
   "language": "python",
   "name": "python3"
  },
  "language_info": {
   "codemirror_mode": {
    "name": "ipython",
    "version": 3
   },
   "file_extension": ".py",
   "mimetype": "text/x-python",
   "name": "python",
   "nbconvert_exporter": "python",
   "pygments_lexer": "ipython3",
   "version": "3.8.8"
  }
 },
 "nbformat": 4,
 "nbformat_minor": 5
}
