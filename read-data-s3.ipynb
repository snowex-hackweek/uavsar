{
 "cells": [
  {
   "cell_type": "code",
   "execution_count": null,
   "id": "optional-speaking",
   "metadata": {},
   "outputs": [],
   "source": [
    "import json\n",
    "import os\n",
    "import rasterio as rio\n",
    "import rioxarray\n",
    "import hvplot.xarray"
   ]
  },
  {
   "cell_type": "code",
   "execution_count": null,
   "id": "boring-escape",
   "metadata": {},
   "outputs": [],
   "source": [
    "s3_path = 's3://snowex-data/uavsar-project/UAVSAR_images/grmesa_2020_008_274_0007d/grmesa_27416_20008-004_20013-004_0007d_s01_L090HH_01.cor.grd.tiff'"
   ]
  },
  {
   "cell_type": "code",
   "execution_count": null,
   "id": "radical-likelihood",
   "metadata": {},
   "outputs": [],
   "source": [
    "%%bash \n",
    "# Set up temporary credentials for GDAL\n",
    "# https://github.com/OSGeo/gdal/issues/4058\n",
    "# NOTE: these last for 1 hour\n",
    "aws sts assume-role-with-web-identity \\\n",
    " --role-arn $AWS_ROLE_ARN \\\n",
    " --role-session-name snowex \\\n",
    " --web-identity-token file://$AWS_WEB_IDENTITY_TOKEN_FILE \\\n",
    " --duration-seconds 3600 > /tmp/irp-cred.json\n",
    "\n",
    "# Print out creds    \n",
    "#echo AWS_REGION=\"us-west-2\"\n",
    "#echo AWS_ACCESS_KEY_ID=\"$(cat /tmp/irp-cred.json | jq -r \".Credentials.AccessKeyId\")\"\n",
    "#echo AWS_SECRET_ACCESS_KEY=\"$(cat /tmp/irp-cred.json | jq -r \".Credentials.SecretAccessKey\")\"\n",
    "#echo AWS_SESSION_TOKEN=\"$(cat /tmp/irp-cred.json | jq -r \".Credentials.SessionToken\")\""
   ]
  },
  {
   "cell_type": "code",
   "execution_count": null,
   "id": "responsible-duration",
   "metadata": {},
   "outputs": [],
   "source": [
    "# Use temporary credentials in python (rasterio)\n",
    "\n",
    "with open('/tmp/irp-cred.json') as f:\n",
    "    creds = json.load(f)\n",
    "    AccessKeyId = creds['Credentials']['AccessKeyId']\n",
    "    SecretAccessKey = creds['Credentials']['SecretAccessKey']\n",
    "    SessionToken = creds['Credentials']['SessionToken']\n",
    "    \n",
    "    # Set environment variables\n",
    "    os.environ['AWS_ACCESS_KEY_ID'] = AccessKeyId\n",
    "    os.environ['AWS_SECRET_ACCESS_KEY'] = SecretAccessKey\n",
    "    os.environ['AWS_SESSION_TOKEN'] = SessionToken\n",
    "\n",
    "# GDAL env variables https://gdal.org/user/virtual_file_systems.html#vsicurl-http-https-ftp-files-random-access\n",
    "Env = rio.Env(GDAL_DISABLE_READDIR_ON_OPEN='EMPTY_DIR')"
   ]
  },
  {
   "cell_type": "code",
   "execution_count": null,
   "id": "meaningful-orange",
   "metadata": {},
   "outputs": [],
   "source": [
    "# Now you can read it directly and work with subsets, etc\n",
    "import rioxarray\n",
    "with Env:\n",
    "    da = rioxarray.open_rasterio(s3_path, masked=True).squeeze('band', drop=True)\n",
    "\n",
    "da.name = os.path.basename(s3_path)\n",
    "da"
   ]
  },
  {
   "cell_type": "code",
   "execution_count": null,
   "id": "genetic-blink",
   "metadata": {},
   "outputs": [],
   "source": [
    "# Efficiently plot in browser\n",
    "import hvplot.xarray\n",
    "da.hvplot.image(rasterize=True, cmap='gray')"
   ]
  },
  {
   "cell_type": "code",
   "execution_count": null,
   "id": "appropriate-channel",
   "metadata": {},
   "outputs": [],
   "source": [
    "#http://xarray.pydata.org/en/stable/user-guide/indexing.html\n",
    "# Use da.sel to use geo coordinates\n",
    "subset = da.isel(x=slice(1000,2000), y=slice(4000,4500))\n",
    "subset"
   ]
  }
 ],
 "metadata": {
  "kernelspec": {
   "display_name": "Python 3",
   "language": "python",
   "name": "python3"
  },
  "language_info": {
   "codemirror_mode": {
    "name": "ipython",
    "version": 3
   },
   "file_extension": ".py",
   "mimetype": "text/x-python",
   "name": "python",
   "nbconvert_exporter": "python",
   "pygments_lexer": "ipython3",
   "version": "3.8.8"
  }
 },
 "nbformat": 4,
 "nbformat_minor": 5
}
